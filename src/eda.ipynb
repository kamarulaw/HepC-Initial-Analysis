{
 "cells": [
  {
   "cell_type": "code",
   "execution_count": 2,
   "metadata": {},
   "outputs": [],
   "source": [
    "import os\n",
    "import numpy as np\n",
    "import pandas as pd\n",
    "import matplotlib.pyplot as plt"
   ]
  },
  {
   "cell_type": "code",
   "execution_count": 5,
   "metadata": {},
   "outputs": [],
   "source": [
    "# read in data\n",
    "data = pd.read_csv(\"../data/hcvdat0.csv\", dtype={\"Category\":str})\n",
    "# drop second index column\n",
    "data.drop(labels=\"Unnamed: 0\", axis=\"columns\", inplace=True)"
   ]
  },
  {
   "cell_type": "markdown",
   "metadata": {},
   "source": [
    "## Exploration"
   ]
  },
  {
   "cell_type": "code",
   "execution_count": 99,
   "metadata": {},
   "outputs": [
    {
     "data": {
      "text/html": [
       "<div>\n",
       "<style scoped>\n",
       "    .dataframe tbody tr th:only-of-type {\n",
       "        vertical-align: middle;\n",
       "    }\n",
       "\n",
       "    .dataframe tbody tr th {\n",
       "        vertical-align: top;\n",
       "    }\n",
       "\n",
       "    .dataframe thead th {\n",
       "        text-align: right;\n",
       "    }\n",
       "</style>\n",
       "<table border=\"1\" class=\"dataframe\">\n",
       "  <thead>\n",
       "    <tr style=\"text-align: right;\">\n",
       "      <th></th>\n",
       "      <th>Category</th>\n",
       "      <th>Age</th>\n",
       "      <th>Sex</th>\n",
       "      <th>ALB</th>\n",
       "      <th>ALP</th>\n",
       "      <th>ALT</th>\n",
       "      <th>AST</th>\n",
       "      <th>BIL</th>\n",
       "      <th>CHE</th>\n",
       "      <th>CHOL</th>\n",
       "      <th>CREA</th>\n",
       "      <th>GGT</th>\n",
       "      <th>PROT</th>\n",
       "    </tr>\n",
       "  </thead>\n",
       "  <tbody>\n",
       "    <tr>\n",
       "      <th>0</th>\n",
       "      <td>0</td>\n",
       "      <td>32</td>\n",
       "      <td>m</td>\n",
       "      <td>38.5</td>\n",
       "      <td>52.5</td>\n",
       "      <td>7.7</td>\n",
       "      <td>22.1</td>\n",
       "      <td>7.5</td>\n",
       "      <td>6.93</td>\n",
       "      <td>3.23</td>\n",
       "      <td>106.0</td>\n",
       "      <td>12.1</td>\n",
       "      <td>69.0</td>\n",
       "    </tr>\n",
       "    <tr>\n",
       "      <th>1</th>\n",
       "      <td>0</td>\n",
       "      <td>32</td>\n",
       "      <td>m</td>\n",
       "      <td>38.5</td>\n",
       "      <td>70.3</td>\n",
       "      <td>18.0</td>\n",
       "      <td>24.7</td>\n",
       "      <td>3.9</td>\n",
       "      <td>11.17</td>\n",
       "      <td>4.80</td>\n",
       "      <td>74.0</td>\n",
       "      <td>15.6</td>\n",
       "      <td>76.5</td>\n",
       "    </tr>\n",
       "  </tbody>\n",
       "</table>\n",
       "</div>"
      ],
      "text/plain": [
       "   Category  Age Sex   ALB   ALP   ALT   AST  BIL    CHE  CHOL   CREA   GGT  \\\n",
       "0         0   32   m  38.5  52.5   7.7  22.1  7.5   6.93  3.23  106.0  12.1   \n",
       "1         0   32   m  38.5  70.3  18.0  24.7  3.9  11.17  4.80   74.0  15.6   \n",
       "\n",
       "   PROT  \n",
       "0  69.0  \n",
       "1  76.5  "
      ]
     },
     "execution_count": 99,
     "metadata": {},
     "output_type": "execute_result"
    }
   ],
   "source": [
    "data.head(2)"
   ]
  },
  {
   "cell_type": "code",
   "execution_count": 6,
   "metadata": {},
   "outputs": [
    {
     "name": "stdout",
     "output_type": "stream",
     "text": [
      "['0=Blood Donor', '0s=suspect Blood Donor', '1=Hepatitis', '2=Fibrosis', '3=Cirrhosis']\n"
     ]
    },
    {
     "data": {
      "image/png": "[encoded data removed]",
      "text/plain": [
       "<Figure size 576x360 with 1 Axes>"
      ]
     },
     "metadata": {
      "needs_background": "light"
     },
     "output_type": "display_data"
    }
   ],
   "source": [
    "# binarize category data\n",
    "print(data[\"Category\"].unique().tolist())\n",
    "binarized_category_dict = {\"0=Blood Donor\":0, \"0s=suspect Blood Donor\":0, \"1=Hepatitis\":1, \"2=Fibrosis\":1, \"3=Cirrhosis\":1}\n",
    "data[\"Category\"] = data[\"Category\"].map(binarized_category_dict)\n",
    "# save binarized for future model building\n",
    "data.to_csv(\"../data/binarized_data.csv\", index=False)\n",
    "# visualize binarized target data\n",
    "plt.figure(figsize=(8,5))\n",
    "plt.bar([\"Blood Donor\", \"Hepatitis\"], list(data[\"Category\"].value_counts()))\n",
    "plt.title(\"Target Distribution\")\n",
    "plt.show()"
   ]
  },
  {
   "cell_type": "markdown",
   "metadata": {},
   "source": [
    "### ALB Analysis"
   ]
  },
  {
   "cell_type": "code",
   "execution_count": 102,
   "metadata": {
    "scrolled": false
   },
   "outputs": [
    {
     "name": "stdout",
     "output_type": "stream",
     "text": [
      "            ['count', 'mean', 'std', 'min', '25%', '50%', '75%', 'max']\n",
      "Full Frame: ['614.00', '41.62', '5.78', '14.90', '38.80', '41.95', '45.20', '82.20']\n",
      "Don Subset: ['540.00', '42.01', '5.51', '14.90', '39.10', '42.10', '45.32', '82.20']\n",
      "Hep Subset: ['74.00', '38.80', '6.88', '20.00', '34.25', '39.50', '44.00', '50.00']\n"
     ]
    },
    {
     "name": "stderr",
     "output_type": "stream",
     "text": [
      "/Users/klawal/opt/anaconda3/lib/python3.8/site-packages/numpy/lib/histograms.py:839: RuntimeWarning: invalid value encountered in greater_equal\n",
      "  keep = (tmp_a >= first_edge)\n",
      "/Users/klawal/opt/anaconda3/lib/python3.8/site-packages/numpy/lib/histograms.py:840: RuntimeWarning: invalid value encountered in less_equal\n",
      "  keep &= (tmp_a <= last_edge)\n"
     ]
    },
    {
     "data": {
      "image/png": "[encoded data removed]",
      "text/plain": [
       "<Figure size 1512x360 with 3 Axes>"
      ]
     },
     "metadata": {
      "needs_background": "light"
     },
     "output_type": "display_data"
    }
   ],
   "source": [
    "# copy frame for ALB analysis\n",
    "albframe = data.copy(deep=True)\n",
    "# subset alb based on target value\n",
    "albdon = albframe.loc[frame[\"Category\"] == 0]\n",
    "albhep = albframe.loc[frame[\"Category\"] == 1]\n",
    "# view alb distribution information\n",
    "print(\"           \", list(frame[\"ALB\"].describe().index))\n",
    "print(\"Full Frame:\", ['%.2f' % elem for elem in list(albframe[\"ALB\"].describe())])\n",
    "print(\"Don Subset:\", ['%.2f' % elem for elem in list(albdon[\"ALB\"].describe())])\n",
    "print(\"Hep Subset:\", ['%.2f' % elem for elem in list(albhep[\"ALB\"].describe())])\n",
    "# visualize alb plots\n",
    "fig, axs = plt.subplots(1, 3, sharex='col', sharey='row', gridspec_kw={'hspace': .2, 'wspace': .2}, figsize=(21,5))\n",
    "(ax1, ax2, ax3) = axs\n",
    "fig.suptitle('ALB Distributions')\n",
    "ax1.hist(albframe[\"ALB\"])\n",
    "ax1.title.set_text(\"Full Frame\")\n",
    "ax2.hist(albdon[\"ALB\"], color=\"green\")\n",
    "ax2.title.set_text(\"Donors\")\n",
    "ax3.hist(albhep[\"ALB\"], color=\"red\")\n",
    "ax3.title.set_text(\"Hepatitis\")\n",
    "plt.show()"
   ]
  },
  {
   "cell_type": "markdown",
   "metadata": {},
   "source": [
    "Conclusion: Blood Donors have a few more outliers for ALB.  It also seems like Hepatitis C carriers have more uniformly distributed ALB"
   ]
  },
  {
   "cell_type": "markdown",
   "metadata": {},
   "source": [
    "### ALP Analysis"
   ]
  },
  {
   "cell_type": "code",
   "execution_count": 103,
   "metadata": {},
   "outputs": [
    {
     "name": "stdout",
     "output_type": "stream",
     "text": [
      "            ['count', 'mean', 'std', 'min', '25%', '50%', '75%', 'max']\n",
      "Full Frame: ['597.00', '68.28', '26.03', '11.30', '52.50', '66.20', '80.10', '416.60']\n",
      "Don Subset: ['540.00', '68.87', '19.45', '27.00', '55.30', '66.95', '80.12', '208.20']\n",
      "Hep Subset: ['57.00', '62.73', '59.44', '11.30', '34.40', '41.60', '79.00', '416.60']\n"
     ]
    },
    {
     "data": {
      "image/png": "[encoded data removed]",
      "text/plain": [
       "<Figure size 1512x360 with 3 Axes>"
      ]
     },
     "metadata": {
      "needs_background": "light"
     },
     "output_type": "display_data"
    }
   ],
   "source": [
    "# copy frame for ALB analysis\n",
    "alpframe = data.copy(deep=True)\n",
    "# subsetbased on target value\n",
    "alpdon = frame.loc[frame[\"Category\"] == 0]\n",
    "alphep = frame.loc[frame[\"Category\"] == 1]\n",
    "# view alp distribution information\n",
    "print(\"           \", list(alpframe[\"ALP\"].describe().index))\n",
    "print(\"Full Frame:\", ['%.2f' % elem for elem in list(alpframe[\"ALP\"].describe())])\n",
    "print(\"Don Subset:\", ['%.2f' % elem for elem in list(alpdon[\"ALP\"].describe())])\n",
    "print(\"Hep Subset:\", ['%.2f' % elem for elem in list(alphep[\"ALP\"].describe())])\n",
    "# visualize alb plots\n",
    "fig, axs = plt.subplots(1, 3, sharex='col', sharey='row', gridspec_kw={'hspace': .2, 'wspace': .2}, figsize=(21,5))\n",
    "(ax1, ax2, ax3) = axs\n",
    "fig.suptitle('ALP Distributions')\n",
    "ax1.hist(alpframe[\"ALP\"], bins=50)\n",
    "ax1.title.set_text(\"Full Frame\")\n",
    "ax2.hist(alpdon[\"ALP\"], bins=50, color=\"green\")\n",
    "ax2.title.set_text(\"Donors\")\n",
    "ax3.hist(alphep[\"ALP\"], bins=50, color=\"red\")\n",
    "ax3.title.set_text(\"Hepatitis\")\n",
    "plt.show()"
   ]
  },
  {
   "cell_type": "markdown",
   "metadata": {},
   "source": [
    "Conclusion: There is a higher degree of variability for ALP amongst Hepatitis C carriers"
   ]
  },
  {
   "cell_type": "markdown",
   "metadata": {},
   "source": [
    "### AST Analysis"
   ]
  },
  {
   "cell_type": "code",
   "execution_count": 101,
   "metadata": {},
   "outputs": [
    {
     "name": "stdout",
     "output_type": "stream",
     "text": [
      "            ['count', 'mean', 'std', 'min', '25%', '50%', '75%', 'max']\n",
      "Full Frame: ['615.00', '34.79', '33.09', '10.60', '21.60', '25.90', '32.90', '324.00']\n",
      "Don Subset: ['540.00', '27.13', '12.97', '10.60', '21.17', '24.90', '29.92', '188.70']\n",
      "Hep Subset: ['75.00', '89.95', '65.94', '16.70', '42.55', '68.90', '111.65', '324.00']\n"
     ]
    },
    {
     "data": {
      "image/png": "[encoded data removed]",
      "text/plain": [
       "<Figure size 1512x360 with 3 Axes>"
      ]
     },
     "metadata": {
      "needs_background": "light"
     },
     "output_type": "display_data"
    }
   ],
   "source": [
    "# copy frame for AST analysis\n",
    "astframe = data.copy(deep=True)\n",
    "# subsetbased on target value\n",
    "astdon = frame.loc[frame[\"Category\"] == 0]\n",
    "asthep = frame.loc[frame[\"Category\"] == 1]\n",
    "# view ast distribution information\n",
    "print(\"           \", list(astframe[\"AST\"].describe().index))\n",
    "print(\"Full Frame:\", ['%.2f' % elem for elem in list(astframe[\"AST\"].describe())])\n",
    "print(\"Don Subset:\", ['%.2f' % elem for elem in list(astdon[\"AST\"].describe())])\n",
    "print(\"Hep Subset:\", ['%.2f' % elem for elem in list(asthep[\"AST\"].describe())])\n",
    "# visualize ast plots\n",
    "fig, axs = plt.subplots(1, 3, sharex='col', sharey='row', gridspec_kw={'hspace': .2, 'wspace': .2}, figsize=(21,5))\n",
    "(ax1, ax2, ax3) = axs\n",
    "fig.suptitle('AST Distributions')\n",
    "ax1.hist(astframe[\"AST\"], bins=50)\n",
    "ax1.title.set_text(\"Full Frame\")\n",
    "ax2.hist(astdon[\"AST\"], bins=50, color=\"green\")\n",
    "ax2.title.set_text(\"Donors\")\n",
    "ax3.hist(asthep[\"AST\"], bins=50, color=\"red\")\n",
    "ax3.title.set_text(\"Hepatitis\")\n",
    "plt.show()"
   ]
  },
  {
   "cell_type": "markdown",
   "metadata": {},
   "source": [
    "Conclusion: Similarly to ALP, there is a significantly higher degree of variability for AST amongst Hepatitis C carriers"
   ]
  },
  {
   "cell_type": "markdown",
   "metadata": {},
   "source": [
    "### ALT Analysis"
   ]
  },
  {
   "cell_type": "code",
   "execution_count": 105,
   "metadata": {},
   "outputs": [
    {
     "name": "stdout",
     "output_type": "stream",
     "text": [
      "            ['count', 'mean', 'std', 'min', '25%', '50%', '75%', 'max']\n",
      "Full Frame: ['614.00', '28.45', '25.47', '0.90', '16.40', '23.00', '33.08', '325.30']\n",
      "Don Subset: ['540.00', '27.61', '20.99', '2.50', '17.20', '23.15', '32.60', '325.30']\n",
      "Hep Subset: ['74.00', '34.59', '46.39', '0.90', '6.18', '14.95', '41.17', '258.00']\n"
     ]
    },
    {
     "data": {
      "image/png": "[encoded data removed]",
      "text/plain": [
       "<Figure size 1512x360 with 3 Axes>"
      ]
     },
     "metadata": {
      "needs_background": "light"
     },
     "output_type": "display_data"
    }
   ],
   "source": [
    "# copy frame for ALT analysis\n",
    "altframe = data.copy(deep=True)\n",
    "# subsetbased on target value\n",
    "altdon = frame.loc[frame[\"Category\"] == 0]\n",
    "althep = frame.loc[frame[\"Category\"] == 1]\n",
    "# view ast distribution information\n",
    "print(\"           \", list(astframe[\"ALP\"].describe().index))\n",
    "print(\"Full Frame:\", ['%.2f' % elem for elem in list(altframe[\"ALT\"].describe())])\n",
    "print(\"Don Subset:\", ['%.2f' % elem for elem in list(altdon[\"ALT\"].describe())])\n",
    "print(\"Hep Subset:\", ['%.2f' % elem for elem in list(althep[\"ALT\"].describe())])\n",
    "# visualize alt plots\n",
    "fig, axs = plt.subplots(1, 3, sharex='col', sharey='row', gridspec_kw={'hspace': .2, 'wspace': .2}, figsize=(21,5))\n",
    "(ax1, ax2, ax3) = axs\n",
    "fig.suptitle('ALT Distributions')\n",
    "ax1.hist(altframe[\"ALT\"], bins=50)\n",
    "ax1.title.set_text(\"Full Frame\")\n",
    "ax2.hist(altdon[\"ALT\"], bins=50, color=\"green\")\n",
    "ax2.title.set_text(\"Donors\")\n",
    "ax3.hist(althep[\"ALT\"], bins=50, color=\"red\")\n",
    "ax3.title.set_text(\"Hepatitis\")\n",
    "plt.show()"
   ]
  },
  {
   "cell_type": "markdown",
   "metadata": {},
   "source": [
    "Conclusion: Both Blood Donors and Hepatitis C carriers have a decent number of outliers."
   ]
  },
  {
   "cell_type": "markdown",
   "metadata": {},
   "source": [
    "### BIL Analysis"
   ]
  },
  {
   "cell_type": "code",
   "execution_count": 111,
   "metadata": {},
   "outputs": [
    {
     "name": "stdout",
     "output_type": "stream",
     "text": [
      "            ['count', 'mean', 'std', 'min', '25%', '50%', '75%', 'max']\n",
      "Full Frame: ['615.00', '11.40', '19.67', '0.80', '5.30', '7.30', '11.20', '254.00']\n",
      "Don Subset: ['540.00', '8.48', '6.07', '0.80', '4.97', '6.90', '10.03', '59.10']\n",
      "Hep Subset: ['75.00', '32.41', '49.32', '5.00', '10.50', '14.00', '27.00', '254.00']\n"
     ]
    },
    {
     "data": {
      "image/png": "[encoded data removed]",
      "text/plain": [
       "<Figure size 1512x360 with 3 Axes>"
      ]
     },
     "metadata": {
      "needs_background": "light"
     },
     "output_type": "display_data"
    }
   ],
   "source": [
    "# copy frame for BIL analysis\n",
    "bilframe = data.copy(deep=True)\n",
    "# subsetbased on target value\n",
    "bildon = frame.loc[frame[\"Category\"] == 0]\n",
    "bilhep = frame.loc[frame[\"Category\"] == 1]\n",
    "# view bil distribution information\n",
    "print(\"           \", list(bilframe[\"BIL\"].describe().index))\n",
    "print(\"Full Frame:\", ['%.2f' % elem for elem in list(bilframe[\"BIL\"].describe())])\n",
    "print(\"Don Subset:\", ['%.2f' % elem for elem in list(bildon[\"BIL\"].describe())])\n",
    "print(\"Hep Subset:\", ['%.2f' % elem for elem in list(bilhep[\"BIL\"].describe())])\n",
    "# visualize bil plots\n",
    "fig, axs = plt.subplots(1, 3, sharex='col', sharey='row', gridspec_kw={'hspace': .2, 'wspace': .2}, figsize=(21,5))\n",
    "(ax1, ax2, ax3) = axs\n",
    "fig.suptitle('BIL Distributions')\n",
    "ax1.hist(bilframe[\"BIL\"], bins=50)\n",
    "ax1.title.set_text(\"Full Frame\")\n",
    "ax2.hist(bildon[\"BIL\"], bins=50, color=\"green\")\n",
    "ax2.title.set_text(\"Donors\")\n",
    "ax3.hist(bilhep[\"BIL\"], bins=50, color=\"red\")\n",
    "ax3.title.set_text(\"Hepatitis\")\n",
    "plt.show()"
   ]
  },
  {
   "cell_type": "markdown",
   "metadata": {},
   "source": [
    "Conclusion: Mean BIL is 282% higher for Hepatitis C carriers.  An indicator variable based on BIL could be useful if it can be constructed in a way that doesn't result in a near zero variance feature.  "
   ]
  },
  {
   "cell_type": "markdown",
   "metadata": {},
   "source": [
    "### CHE Analysis"
   ]
  },
  {
   "cell_type": "code",
   "execution_count": 113,
   "metadata": {},
   "outputs": [
    {
     "name": "stdout",
     "output_type": "stream",
     "text": [
      "            ['count', 'mean', 'std', 'min', '25%', '50%', '75%', 'max']\n",
      "Full Frame: ['615.00', '8.20', '2.21', '1.42', '6.94', '8.26', '9.59', '16.41']\n",
      "Don Subset: ['540.00', '8.39', '1.93', '3.44', '7.08', '8.32', '9.62', '15.43']\n",
      "Hep Subset: ['75.00', '6.83', '3.31', '1.42', '4.00', '7.10', '9.34', '16.41']\n"
     ]
    },
    {
     "data": {
      "image/png": "[encoded data removed]",
      "text/plain": [
       "<Figure size 1512x360 with 3 Axes>"
      ]
     },
     "metadata": {
      "needs_background": "light"
     },
     "output_type": "display_data"
    }
   ],
   "source": [
    "# copy frame for CHE analysis\n",
    "cheframe = data.copy(deep=True)\n",
    "# subsetbased on target value\n",
    "chedon = frame.loc[frame[\"Category\"] == 0]\n",
    "chehep = frame.loc[frame[\"Category\"] == 1]\n",
    "# view che distribution information\n",
    "print(\"           \", list(cheframe[\"CHE\"].describe().index))\n",
    "print(\"Full Frame:\", ['%.2f' % elem for elem in list(cheframe[\"CHE\"].describe())])\n",
    "print(\"Don Subset:\", ['%.2f' % elem for elem in list(chedon[\"CHE\"].describe())])\n",
    "print(\"Hep Subset:\", ['%.2f' % elem for elem in list(chehep[\"CHE\"].describe())])\n",
    "# visualize che plots\n",
    "fig, axs = plt.subplots(1, 3, sharex='col', sharey='row', gridspec_kw={'hspace': .2, 'wspace': .2}, figsize=(21,5))\n",
    "(ax1, ax2, ax3) = axs\n",
    "fig.suptitle('CHE Distributions')\n",
    "ax1.hist(cheframe[\"CHE\"], bins=50)\n",
    "ax1.title.set_text(\"Full Frame\")\n",
    "ax2.hist(chedon[\"CHE\"], bins=50, color=\"green\")\n",
    "ax2.title.set_text(\"Donors\")\n",
    "ax3.hist(chehep[\"CHE\"], bins=50, color=\"red\")\n",
    "ax3.title.set_text(\"Hepatitis\")\n",
    "plt.show()"
   ]
  },
  {
   "cell_type": "markdown",
   "metadata": {},
   "source": [
    "Conclusion: Both Blood Donors and Hepatitis C carriers follow roughly the same distribution for CHE."
   ]
  },
  {
   "cell_type": "markdown",
   "metadata": {},
   "source": [
    "### CHOL Analysis"
   ]
  },
  {
   "cell_type": "code",
   "execution_count": 114,
   "metadata": {},
   "outputs": [
    {
     "name": "stdout",
     "output_type": "stream",
     "text": [
      "            ['count', 'mean', 'std', 'min', '25%', '50%', '75%', 'max']\n",
      "Full Frame: ['605.00', '5.37', '1.13', '1.43', '4.61', '5.30', '6.06', '9.67']\n",
      "Don Subset: ['533.00', '5.48', '1.08', '2.61', '4.69', '5.38', '6.17', '9.43']\n",
      "Hep Subset: ['72.00', '4.54', '1.19', '1.43', '3.76', '4.38', '5.25', '9.67']\n"
     ]
    },
    {
     "data": {
      "image/png": "[encoded data removed]",
      "text/plain": [
       "<Figure size 1512x360 with 3 Axes>"
      ]
     },
     "metadata": {
      "needs_background": "light"
     },
     "output_type": "display_data"
    }
   ],
   "source": [
    "# copy frame for CHOL analysis\n",
    "cholframe = data.copy(deep=True)\n",
    "# subsetbased on target value\n",
    "choldon = frame.loc[frame[\"Category\"] == 0]\n",
    "cholhep = frame.loc[frame[\"Category\"] == 1]\n",
    "# view chol distribution information\n",
    "print(\"           \", list(cholframe[\"CHOL\"].describe().index))\n",
    "print(\"Full Frame:\", ['%.2f' % elem for elem in list(cholframe[\"CHOL\"].describe())])\n",
    "print(\"Don Subset:\", ['%.2f' % elem for elem in list(choldon[\"CHOL\"].describe())])\n",
    "print(\"Hep Subset:\", ['%.2f' % elem for elem in list(cholhep[\"CHOL\"].describe())])\n",
    "# visualize chol plots\n",
    "fig, axs = plt.subplots(1, 3, sharex='col', sharey='row', gridspec_kw={'hspace': .2, 'wspace': .2}, figsize=(21,5))\n",
    "(ax1, ax2, ax3) = axs\n",
    "fig.suptitle('CHOL Distributions')\n",
    "ax1.hist(cholframe[\"CHOL\"], bins=50)\n",
    "ax1.title.set_text(\"Full Frame\")\n",
    "ax2.hist(choldon[\"CHOL\"], bins=50, color=\"green\")\n",
    "ax2.title.set_text(\"Donors\")\n",
    "ax3.hist(cholhep[\"CHOL\"], bins=50, color=\"red\")\n",
    "ax3.title.set_text(\"Hepatitis\")\n",
    "plt.show()"
   ]
  },
  {
   "cell_type": "markdown",
   "metadata": {},
   "source": [
    "Conclusion: Both Blood Donors and Hepatitis C carriers follow roughly the same distribution for CHOL."
   ]
  },
  {
   "cell_type": "markdown",
   "metadata": {},
   "source": [
    "### CREA Analysis"
   ]
  },
  {
   "cell_type": "code",
   "execution_count": 116,
   "metadata": {},
   "outputs": [
    {
     "name": "stdout",
     "output_type": "stream",
     "text": [
      "            ['count', 'mean', 'std', 'min', '25%', '50%', '75%', 'max']\n",
      "Full Frame: ['615.00', '81.29', '49.76', '8.00', '67.00', '77.00', '88.00', '1079.10']\n",
      "Don Subset: ['540.00', '78.75', '15.58', '8.00', '68.00', '78.00', '89.00', '170.00']\n",
      "Hep Subset: ['75.00', '99.53', '135.61', '45.40', '61.45', '70.90', '81.05', '1079.10']\n"
     ]
    },
    {
     "data": {
      "image/png": "[encoded data removed]",
      "text/plain": [
       "<Figure size 1512x360 with 3 Axes>"
      ]
     },
     "metadata": {
      "needs_background": "light"
     },
     "output_type": "display_data"
    }
   ],
   "source": [
    "# copy frame for CREA analysis\n",
    "creaframe = data.copy(deep=True)\n",
    "# subsetbased on target value\n",
    "creadon = frame.loc[frame[\"Category\"] == 0]\n",
    "creahep = frame.loc[frame[\"Category\"] == 1]\n",
    "# view crea distribution information\n",
    "print(\"           \", list(creaframe[\"CREA\"].describe().index))\n",
    "print(\"Full Frame:\", ['%.2f' % elem for elem in list(creaframe[\"CREA\"].describe())])\n",
    "print(\"Don Subset:\", ['%.2f' % elem for elem in list(creadon[\"CREA\"].describe())])\n",
    "print(\"Hep Subset:\", ['%.2f' % elem for elem in list(creahep[\"CREA\"].describe())])\n",
    "# visualize crea plots\n",
    "fig, axs = plt.subplots(1, 3, sharex='col', sharey='row', gridspec_kw={'hspace': .2, 'wspace': .2}, figsize=(21,5))\n",
    "(ax1, ax2, ax3) = axs\n",
    "fig.suptitle('CREA Distributions')\n",
    "ax1.hist(creaframe[\"CREA\"], bins=50)\n",
    "ax1.title.set_text(\"Full Frame\")\n",
    "ax2.hist(creadon[\"CREA\"], bins=50, color=\"green\")\n",
    "ax2.title.set_text(\"Donors\")\n",
    "ax3.hist(creahep[\"CREA\"], bins=50, color=\"red\")\n",
    "ax3.title.set_text(\"Hepatitis\")\n",
    "plt.show()"
   ]
  },
  {
   "cell_type": "markdown",
   "metadata": {},
   "source": [
    "Conclusion: Hepatitis C carriers have a significanlty higher mean and variance for CREA."
   ]
  },
  {
   "cell_type": "markdown",
   "metadata": {},
   "source": [
    "### GGT Analysis"
   ]
  },
  {
   "cell_type": "code",
   "execution_count": 117,
   "metadata": {},
   "outputs": [
    {
     "name": "stdout",
     "output_type": "stream",
     "text": [
      "            ['count', 'mean', 'std', 'min', '25%', '50%', '75%', 'max']\n",
      "Full Frame: ['615.00', '39.53', '54.66', '4.50', '15.70', '23.30', '40.20', '650.90']\n",
      "Don Subset: ['540.00', '30.62', '31.56', '4.50', '15.10', '21.50', '32.35', '345.60']\n",
      "Hep Subset: ['75.00', '103.68', '113.09', '11.50', '40.15', '65.60', '119.65', '650.90']\n"
     ]
    },
    {
     "data": {
      "image/png": "[encoded data removed]",
      "text/plain": [
       "<Figure size 1512x360 with 3 Axes>"
      ]
     },
     "metadata": {
      "needs_background": "light"
     },
     "output_type": "display_data"
    }
   ],
   "source": [
    "# copy frame for GGT analysis\n",
    "ggtframe = data.copy(deep=True)\n",
    "# subsetbased on target value\n",
    "ggtdon = frame.loc[frame[\"Category\"] == 0]\n",
    "ggthep = frame.loc[frame[\"Category\"] == 1]\n",
    "# view ggt distribution information\n",
    "print(\"           \", list(ggtframe[\"GGT\"].describe().index))\n",
    "print(\"Full Frame:\", ['%.2f' % elem for elem in list(ggtframe[\"GGT\"].describe())])\n",
    "print(\"Don Subset:\", ['%.2f' % elem for elem in list(ggtdon[\"GGT\"].describe())])\n",
    "print(\"Hep Subset:\", ['%.2f' % elem for elem in list(ggthep[\"GGT\"].describe())])\n",
    "# visualize ggt plots\n",
    "fig, axs = plt.subplots(1, 3, sharex='col', sharey='row', gridspec_kw={'hspace': .2, 'wspace': .2}, figsize=(21,5))\n",
    "(ax1, ax2, ax3) = axs\n",
    "fig.suptitle('GGT Distributions')\n",
    "ax1.hist(ggtframe[\"GGT\"], bins=50)\n",
    "ax1.title.set_text(\"Full Frame\")\n",
    "ax2.hist(ggtdon[\"GGT\"], bins=50, color=\"green\")\n",
    "ax2.title.set_text(\"Donors\")\n",
    "ax3.hist(ggthep[\"GGT\"], bins=50, color=\"red\")\n",
    "ax3.title.set_text(\"Hepatitis\")\n",
    "plt.show()"
   ]
  },
  {
   "cell_type": "markdown",
   "metadata": {},
   "source": [
    "Conclusion: Hepatitis C carriers have a significanlty higher mean and variance for GGT."
   ]
  },
  {
   "cell_type": "markdown",
   "metadata": {},
   "source": [
    "### PROT Analysis"
   ]
  },
  {
   "cell_type": "code",
   "execution_count": 122,
   "metadata": {},
   "outputs": [
    {
     "name": "stdout",
     "output_type": "stream",
     "text": [
      "            ['count', 'mean', 'std', 'min', '25%', '50%', '75%', 'max']\n",
      "Full Frame: ['614.00', '72.04', '5.40', '44.80', '69.30', '72.20', '75.40', '90.00']\n",
      "Don Subset: ['540.00', '71.88', '5.12', '44.80', '69.30', '72.10', '75.12', '86.50']\n",
      "Hep Subset: ['74.00', '73.28', '7.06', '54.20', '69.93', '72.90', '78.18', '90.00']\n"
     ]
    },
    {
     "name": "stderr",
     "output_type": "stream",
     "text": [
      "/Users/klawal/opt/anaconda3/lib/python3.8/site-packages/numpy/lib/histograms.py:839: RuntimeWarning: invalid value encountered in greater_equal\n",
      "  keep = (tmp_a >= first_edge)\n",
      "/Users/klawal/opt/anaconda3/lib/python3.8/site-packages/numpy/lib/histograms.py:840: RuntimeWarning: invalid value encountered in less_equal\n",
      "  keep &= (tmp_a <= last_edge)\n"
     ]
    },
    {
     "data": {
      "image/png": "[encoded data removed]",
      "text/plain": [
       "<Figure size 1512x360 with 3 Axes>"
      ]
     },
     "metadata": {
      "needs_background": "light"
     },
     "output_type": "display_data"
    }
   ],
   "source": [
    "# copy frame for PROT analysis\n",
    "protframe = data.copy(deep=True)\n",
    "# subsetbased on target value\n",
    "protdon = frame.loc[frame[\"Category\"] == 0]\n",
    "prothep = frame.loc[frame[\"Category\"] == 1]\n",
    "# view prot distribution information\n",
    "print(\"           \", list(protframe[\"PROT\"].describe().index))\n",
    "print(\"Full Frame:\", ['%.2f' % elem for elem in list(protframe[\"PROT\"].describe())])\n",
    "print(\"Don Subset:\", ['%.2f' % elem for elem in list(protdon[\"PROT\"].describe())])\n",
    "print(\"Hep Subset:\", ['%.2f' % elem for elem in list(prothep[\"PROT\"].describe())])\n",
    "# visualize prot plots\n",
    "fig, axs = plt.subplots(1, 3, sharex='col', sharey='row', gridspec_kw={'hspace': .2, 'wspace': .2}, figsize=(21,5))\n",
    "(ax1, ax2, ax3) = axs\n",
    "fig.suptitle('PROT Distributions')\n",
    "ax1.hist(protframe[\"PROT\"], bins=50)\n",
    "ax1.title.set_text(\"Full Frame\")\n",
    "ax2.hist(protdon[\"PROT\"], bins=50, color=\"green\")\n",
    "ax2.title.set_text(\"Donors\")\n",
    "ax3.hist(prothep[\"PROT\"], bins=50, color=\"red\")\n",
    "ax3.title.set_text(\"Hepatitis\")\n",
    "plt.show()"
   ]
  },
  {
   "cell_type": "markdown",
   "metadata": {},
   "source": [
    "Conclusion: Both Blood Donors and Hepatitis C carriers follow roughly the same distribution for PROT."
   ]
  }
 ],
 "metadata": {
  "kernelspec": {
   "display_name": "Python 3",
   "language": "python",
   "name": "python3"
  },
  "language_info": {
   "codemirror_mode": {
    "name": "ipython",
    "version": 3
   },
   "file_extension": ".py",
   "mimetype": "text/x-python",
   "name": "python",
   "nbconvert_exporter": "python",
   "pygments_lexer": "ipython3",
   "version": "3.8.3"
  }
 },
 "nbformat": 4,
 "nbformat_minor": 4
}
